{
  "nbformat": 4,
  "nbformat_minor": 0,
  "metadata": {
    "colab": {
      "provenance": []
    },
    "kernelspec": {
      "name": "python3",
      "display_name": "Python 3"
    },
    "language_info": {
      "name": "python"
    }
  },
  "cells": [
    {
      "cell_type": "markdown",
      "source": [
        "## **THEORY QUESTIONS**"
      ],
      "metadata": {
        "id": "LUH7iUMv4dcM"
      }
    },
    {
      "cell_type": "markdown",
      "source": [
        "###1. What is statistics, and why is it important?\n",
        "Statistics is the science of collecting, analyzing, interpreting, presenting, and organizing data. It provides methods for understanding and making sense of numerical information, enabling informed decision-making. Its importance lies in its ability to reveal patterns, make predictions, and draw reliable conclusions from data in various fields, from scientific research to business and government policy."
      ],
      "metadata": {
        "id": "H9l6_6iD1MDL"
      }
    },
    {
      "cell_type": "markdown",
      "source": [
        "###2.What are the two main types of statistics?\n",
        "The two main types of statistics are descriptive statistics and inferential statistics. Descriptive statistics focuses on summarizing and presenting data in a meaningful way, while inferential statistics involves drawing conclusions and making predictions about a larger population based on a sample of data. These two branches complement each other in the overall statistical analysis process."
      ],
      "metadata": {
        "id": "jNp-Tl1F1ZSg"
      }
    },
    {
      "cell_type": "markdown",
      "source": [
        "###3. What are descriptive statistics?\n",
        "Descriptive statistics involves methods for organizing, summarizing, and presenting data in an informative way. It aims to describe the main features of a dataset without making generalizations beyond the data itself. Common tools include measures of central tendency (mean, median, mode), measures of variability (range, variance, standard deviation), and graphical representations like histograms and bar charts."
      ],
      "metadata": {
        "id": "EypdWJG81e_C"
      }
    },
    {
      "cell_type": "markdown",
      "source": [
        "###4.What is inferential statistics?\n",
        "Inferential statistics is a branch that uses sample data to make inferences, predictions, and generalizations about a larger population. It employs probability theory to determine the likelihood that observed sample results reflect actual population characteristics. Techniques like hypothesis testing, confidence intervals, and regression analysis are central to inferential statistics, allowing researchers to draw broader conclusions."
      ],
      "metadata": {
        "id": "e_2omTs91may"
      }
    },
    {
      "cell_type": "markdown",
      "source": [
        "###5. What is sampling in statistics?\n",
        "Sampling in statistics is the process of selecting a subset (sample) of individuals or observations from a larger group (population) for analysis. It is crucial when studying an entire population is impractical or impossible due to size or cost. The goal is to obtain a sample that accurately represents the population, allowing for valid inferences about the larger group."
      ],
      "metadata": {
        "id": "7X-2bP8_1rrn"
      }
    },
    {
      "cell_type": "markdown",
      "source": [
        "###6. What are the different types of sampling methods?\n",
        "Sampling methods generally fall into two categories: probability sampling and non-probability sampling. Probability methods include simple random, stratified, systematic, and cluster sampling, where each unit has a known chance of selection. Non-probability methods, such as convenience, quota, and snowball sampling, do not guarantee equal selection probability and are often used for exploratory research."
      ],
      "metadata": {
        "id": "R6XTr6BB1ynS"
      }
    },
    {
      "cell_type": "markdown",
      "source": [
        "###7. What is the difference between random and non-random sampling?\n",
        "Random (probability) sampling ensures that every member of the population has a known, non-zero chance of being selected, minimizing bias and allowing for statistical inference to the population. Non-random (non-probability) sampling does not guarantee this, and selection is often based on convenience or specific criteria, making it difficult to generalize findings to the broader population."
      ],
      "metadata": {
        "id": "mf5i4GPf14pK"
      }
    },
    {
      "cell_type": "markdown",
      "source": [
        "###8. Define and give examples of qualitative and quantitative data.\n",
        "Qualitative data describes qualities or characteristics and is non-numerical, often categorized. Examples include hair color (e.g., brown, black), types of cars (e.g., sedan, SUV), or opinions (e.g., satisfied, neutral). Quantitative data, on the other hand, consists of numerical values that can be measured or counted. Examples are age (e.g., 30 years), height (e.g., 175 cm), or number of students (e.g., 25)."
      ],
      "metadata": {
        "id": "hvK6m8ao1-xG"
      }
    },
    {
      "cell_type": "markdown",
      "source": [
        "###9.What are the different types of data in statistics?\n",
        "Data in statistics can be broadly classified into qualitative (categorical) and quantitative (numerical) types. Qualitative data is descriptive, like gender or brand names. Quantitative data is numerical and can be further divided into discrete (countable values, e.g., number of siblings) and continuous (measurable values, e.g., height or temperature) data."
      ],
      "metadata": {
        "id": "BfnSEDxS2aii"
      }
    },
    {
      "cell_type": "markdown",
      "source": [
        "###10. Explain nominal, ordinal, interval, and ratio levels of measurement.\n",
        "These are levels of measurement that dictate what statistical analyses can be performed. Nominal data are categories without order (e.g., colors). Ordinal data have ordered categories but unequal intervals (e.g., satisfaction ratings: low, medium, high). Interval data have ordered categories with equal intervals but no true zero (e.g., temperature in Celsius). Ratio data have ordered categories, equal intervals, and a true zero point (e.g., height, weight)."
      ],
      "metadata": {
        "id": "8uhibS6d2euM"
      }
    },
    {
      "cell_type": "markdown",
      "source": [
        "###11.What is the measure of central tendency?\n",
        "A measure of central tendency is a single value that attempts to describe a set of data by identifying the central position within that set. It provides a summary of the typical or average value of a dataset. The most common measures are the mean, median, and mode, each offering a different perspective on the data's center."
      ],
      "metadata": {
        "id": "x7X9-09Q2i-J"
      }
    },
    {
      "cell_type": "markdown",
      "source": [
        "###12.Define mean, median, and mode.\n",
        "The mean is the arithmetic average of a dataset, calculated by summing all values and dividing by the count of values. The median is the middle value in an ordered dataset; it divides the data into two equal halves. The mode is the value that appears most frequently in a dataset. Each provides a different insight into the \"center\" of the data."
      ],
      "metadata": {
        "id": "Fkg_Hbmp2mzp"
      }
    },
    {
      "cell_type": "markdown",
      "source": [
        "###13. What is the significance of the measure of central tendency?\n",
        "The measure of central tendency is significant because it provides a concise summary of the typical value in a dataset, helping to quickly understand the data's central location. It allows for comparison between different datasets and forms the basis for more advanced statistical analyses, aiding in decision-making and understanding data distributions."
      ],
      "metadata": {
        "id": "weDlYzVu3cqL"
      }
    },
    {
      "cell_type": "markdown",
      "source": [
        "###14. What is variance, and how is it calculated?\n",
        "Variance is a measure of how spread out a set of data is relative to its mean. It is calculated by taking the average of the squared differences from the mean for each data point. A higher variance indicates that data points are widely dispersed, while a lower variance suggests they are clustered closer to the mean"
      ],
      "metadata": {
        "id": "ocwHGhT63l0F"
      }
    },
    {
      "cell_type": "markdown",
      "source": [
        "###15.What is standard deviation, and why is it important?\n",
        "Standard deviation is the square root of the variance, providing a measure of the average distance between each data point and the mean. It's important because it gives a more intuitive understanding of data dispersion than variance, expressed in the same units as the data. A smaller standard deviation indicates data points are closer to the mean, implying less variability and more consistency.\n",
        "\n"
      ],
      "metadata": {
        "id": "zNo7DqUT3qF0"
      }
    },
    {
      "cell_type": "markdown",
      "source": [
        "###16. Define and explain the term range in statistics.\n",
        "In statistics, the range is the simplest measure of variability, representing the difference between the highest and lowest values in a dataset. It provides a quick and rough indication of the spread of data. While easy to calculate, its main limitation is that it only considers the two extreme values and does not reflect the distribution of data points within the range."
      ],
      "metadata": {
        "id": "lefw8yem3u8g"
      }
    },
    {
      "cell_type": "markdown",
      "source": [
        "###17.What is the difference between variance and standard deviation?\n",
        "Both variance and standard deviation measure the spread or dispersion of data around the mean. The key difference is that variance is the average of the squared deviations from the mean, resulting in units that are squared. Standard deviation is the square root of the variance, bringing the units back to the original scale of the data, making it more interpretable and easier to compare with the mean."
      ],
      "metadata": {
        "id": "XZtJ79Ad306L"
      }
    },
    {
      "cell_type": "markdown",
      "source": [
        "###18.What is skewness in a dataset?\n",
        "Skewness in a dataset describes the asymmetry of its probability distribution. It indicates the extent to which the data is concentrated on one side of the mean, with a \"tail\" extending towards the other side. A perfectly symmetrical distribution (like a normal distribution) has zero skewness."
      ],
      "metadata": {
        "id": "qcKD51-u35bu"
      }
    },
    {
      "cell_type": "markdown",
      "source": [
        "###19. What does it mean if a dataset is positively or negatively skewed?\n",
        "If a dataset is positively (right) skewed, it means the tail of the distribution extends towards the right, and the majority of the data values are concentrated on the left side, often with a few high outlier values. If it's negatively (left) skewed, the tail extends towards the left, with most data concentrated on the right side and some low outlier values."
      ],
      "metadata": {
        "id": "IY_Cq6Cl3-BN"
      }
    },
    {
      "cell_type": "markdown",
      "source": [
        "###20. Define and explain kurtosis.\n",
        "Kurtosis measures the \"tailedness\" of the probability distribution of a real-valued random variable. It describes the shape of the distribution's peaks and how heavy or light its tails are compared to a normal distribution. A high kurtosis indicates a distribution with a sharp peak and heavy tails (leptokurtic), while low kurtosis suggests a flatter peak and lighter tails (platykurtic)."
      ],
      "metadata": {
        "id": "qIMgmWoP4EZc"
      }
    },
    {
      "cell_type": "markdown",
      "source": [
        "###21. What is the purpose of covariance?\n",
        "The purpose of covariance is to measure the extent to which two variables change together. A positive covariance indicates that as one variable increases, the other tends to increase as well. A negative covariance suggests that as one variable increases, the other tends to decrease. However, its magnitude is not standardized, making it difficult to interpret the strength of the relationship."
      ],
      "metadata": {
        "id": "P8-YJ2Jm4IkG"
      }
    },
    {
      "cell_type": "markdown",
      "source": [
        "###22.What does correlation measure in statistics?\n",
        "Correlation in statistics measures the strength and direction of a linear relationship between two quantitative variables. The correlation coefficient ranges from -1 to +1. A value close to +1 indicates a strong positive linear relationship, -1 indicates a strong negative linear relationship, and 0 suggests no linear relationship.\n",
        "\n"
      ],
      "metadata": {
        "id": "3N0MuvGc4L_8"
      }
    },
    {
      "cell_type": "markdown",
      "source": [
        "###23. What is the difference between covariance and correlation?\n",
        "Both covariance and correlation indicate the direction of the linear relationship between two variables. The key difference is that covariance's magnitude is unstandardized and depends on the units of the variables, making it hard to compare across different datasets. Correlation, however, standardizes this measure, scaling it to a range of -1 to +1, which allows for direct comparison of the strength of relationships."
      ],
      "metadata": {
        "id": "-Bbad66K4P11"
      }
    },
    {
      "cell_type": "markdown",
      "source": [
        "###24. What are some real-world applications of statistics?\n",
        "Statistics has numerous real-world applications across various fields. In medicine, it's used for clinical trials and epidemiology; in business, for market research and quality control; in finance, for risk assessment and portfolio management. Governments use statistics for census data and policy making, while environmental science employs it for climate modeling and resource management."
      ],
      "metadata": {
        "id": "oyHVms2P4Tvi"
      }
    },
    {
      "cell_type": "markdown",
      "source": [
        "## PRACTICAL QUESTIONS"
      ],
      "metadata": {
        "id": "_8rtF1CD4YJ9"
      }
    },
    {
      "cell_type": "markdown",
      "source": [
        "01. How do you calculate the mean, median, and mode of a dataset"
      ],
      "metadata": {
        "id": "3WeAswJD40w-"
      }
    },
    {
      "cell_type": "markdown",
      "source": [
        "To calculate the mean, median, and mode:\n",
        "\n",
        "* **Mean:** Sum all the values in the dataset and then divide by the total number of values. For example, for data [1, 2, 3, 4, 5], the mean is (1+2+3+4+5)/5 = 3.\n",
        "* **Median:** First, arrange the dataset in ascending or descending order. If there's an odd number of values, the median is the middle value. If there's an even number, the median is the average of the two middle values. For [1, 2, 3, 4, 5], the median is 3; for [1, 2, 3, 4], it's (2+3)/2 = 2.5.\n",
        "* **Mode:** Identify the value that appears most frequently in the dataset. A dataset can have one mode (unimodal), multiple modes (multimodal), or no mode if all values appear with the same frequency. For example, in [1, 2, 2, 3, 4], the mode is 2."
      ],
      "metadata": {
        "id": "mhadHYSp5BfV"
      }
    },
    {
      "cell_type": "markdown",
      "source": [
        "###2. Write a Python program to compute the variance and standard deviation of a dataset"
      ],
      "metadata": {
        "id": "8b4UYcqU5EM5"
      }
    },
    {
      "cell_type": "code",
      "source": [
        "import math\n",
        "\n",
        "data = [10, 12, 23, 23, 16, 23, 21, 16]\n",
        "mean = sum(data) / len(data)\n",
        "variance = sum((x - mean) ** 2 for x in data) / len(data)\n",
        "\n",
        "std_deviation = math.sqrt(variance)\n",
        "\n",
        "print(f\"Dataset: {data}\")\n",
        "print(f\"Mean: {mean:.2f}\")\n",
        "print(f\"Variance: {variance:.2f}\")\n",
        "print(f\"Standard Deviation: {std_deviation:.2f}\")\n"
      ],
      "metadata": {
        "colab": {
          "base_uri": "https://localhost:8080/"
        },
        "id": "qR7TqbXI5KDx",
        "outputId": "4cd6c9d5-3401-4817-f21b-d0f4e45b2e92"
      },
      "execution_count": null,
      "outputs": [
        {
          "output_type": "stream",
          "name": "stdout",
          "text": [
            "Dataset: [10, 12, 23, 23, 16, 23, 21, 16]\n",
            "Mean: 18.00\n",
            "Variance: 24.00\n",
            "Standard Deviation: 4.90\n"
          ]
        }
      ]
    },
    {
      "cell_type": "markdown",
      "source": [
        "###3.Create a dataset and classify it into nominal, ordinal, interval, and ratio types"
      ],
      "metadata": {
        "id": "6KSQyuM-5hSG"
      }
    },
    {
      "cell_type": "code",
      "source": [
        "\n",
        "| Name   | Size   | Temperature (°C) | Height (cm) |\n",
        "| ------ | ------ | ---------------- | ----------- |\n",
        "| Apple  | Small  | 20               | 5           |\n",
        "| Mango  | Medium | 25               | 10          |\n",
        "| Banana | Large  | 30               | 15          |\n",
        "\n",
        "---\n",
        " **Data Type Classification**\n",
        "\n",
        "| Column        | Type     | Reason                                                               |\n",
        "| ------------- | -------- | -------------------------------------------------------------------- |\n",
        "| `Name`        | Nominal  | Names of fruits (no order or numeric meaning).                       |\n",
        "| `Size`        | Ordinal  | Small < Medium < Large (has order).                                  |\n",
        "| `Temperature` | Interval | Numeric with no true zero; 0°C doesn’t mean “no temperature.”        |\n",
        "| `Height`      | Ratio    | Numeric with true zero; 0 cm means no height, and ratios make sense. |\n",
        "\n",
        "---\n"
      ],
      "metadata": {
        "id": "UGfkebdm5mGx"
      },
      "execution_count": null,
      "outputs": []
    },
    {
      "cell_type": "markdown",
      "source": [
        "###4. Implement sampling techniques like random sampling and stratified sampling"
      ],
      "metadata": {
        "id": "Ci7WLa_G57pa"
      }
    },
    {
      "cell_type": "code",
      "source": [
        "import pandas as pd\n",
        "import numpy as np\n",
        "from sklearn.model_selection import train_test_split\n",
        "\n",
        "np.random.seed(42)\n",
        "\n",
        "data = {\n",
        "    'ID': np.arange(1, 101),\n",
        "    'Category': np.random.choice(['A', 'B', 'C'], size=100),\n",
        "    'Score': np.random.randint(50, 100, size=100)\n",
        "}\n",
        "df = pd.DataFrame(data)\n",
        "\n",
        "print(\"Original Dataset:\")\n",
        "print(df.head())\n",
        "\n",
        "# 🔹 1. Random Sampling (e.g., 10% of the data)\n",
        "random_sample = df.sample(frac=0.1, random_state=42)\n",
        "print(\"\\n🔹 Random Sampling (10% of data):\")\n",
        "print(random_sample)\n",
        "\n",
        "# 🔹 2. Stratified Sampling (e.g., 10% of each category)\n",
        "stratified_sample, _ = train_test_split(\n",
        "    df,\n",
        "    test_size=0.9,\n",
        "    stratify=df['Category'],\n",
        "    random_state=42\n",
        ")\n",
        "print(\"\\n🔹 Stratified Sampling (10% of each category):\")\n",
        "print(stratified_sample['Category'].value_counts())\n",
        "print(stratified_sample)\n"
      ],
      "metadata": {
        "id": "HCYT1DuR6IEe",
        "colab": {
          "base_uri": "https://localhost:8080/"
        },
        "outputId": "22bc2d98-3b08-4e27-e411-43421b0af41b"
      },
      "execution_count": 1,
      "outputs": [
        {
          "output_type": "stream",
          "name": "stdout",
          "text": [
            "Original Dataset:\n",
            "   ID Category  Score\n",
            "0   1        C     93\n",
            "1   2        A     57\n",
            "2   3        C     73\n",
            "3   4        C     60\n",
            "4   5        A     66\n",
            "\n",
            "🔹 Random Sampling (10% of data):\n",
            "    ID Category  Score\n",
            "83  84        A     76\n",
            "53  54        A     79\n",
            "70  71        C     55\n",
            "45  46        C     75\n",
            "44  45        A     64\n",
            "39  40        C     63\n",
            "22  23        B     73\n",
            "80  81        C     88\n",
            "10  11        C     91\n",
            "0    1        C     93\n",
            "\n",
            "🔹 Stratified Sampling (10% of each category):\n",
            "Category\n",
            "B    4\n",
            "A    3\n",
            "C    3\n",
            "Name: count, dtype: int64\n",
            "    ID Category  Score\n",
            "66  67        B     77\n",
            "51  52        A     81\n",
            "85  86        B     90\n",
            "76  77        B     79\n",
            "45  46        C     75\n",
            "64  65        B     56\n",
            "3    4        C     60\n",
            "93  94        C     82\n",
            "98  99        A     81\n",
            "91  92        A     58\n"
          ]
        }
      ]
    },
    {
      "cell_type": "markdown",
      "source": [
        "###5. Write a Python function to calculate the range of a dataset"
      ],
      "metadata": {
        "id": "CeUG86rzjK0d"
      }
    },
    {
      "cell_type": "code",
      "source": [
        "def calculate_range(data):\n",
        "\n",
        "    if not data:\n",
        "        return None\n",
        "    return max(data) - min(data)\n",
        "\n",
        "dataset = [10, 25, 7, 30, 15]\n",
        "range_value = calculate_range(dataset)\n",
        "print(\"Range of dataset:\", range_value)\n"
      ],
      "metadata": {
        "colab": {
          "base_uri": "https://localhost:8080/"
        },
        "id": "8zFay4mNjOxA",
        "outputId": "ce20f04d-947b-4470-8744-f63f2117b014"
      },
      "execution_count": 2,
      "outputs": [
        {
          "output_type": "stream",
          "name": "stdout",
          "text": [
            "Range of dataset: 23\n"
          ]
        }
      ]
    },
    {
      "cell_type": "markdown",
      "source": [
        "###6. Create a dataset and plot its histogram to visualize skewness"
      ],
      "metadata": {
        "id": "tpJKACkBjXwa"
      }
    },
    {
      "cell_type": "code",
      "source": [
        "import numpy as np\n",
        "import pandas as pd\n",
        "import matplotlib.pyplot as plt\n",
        "import seaborn as sns\n",
        "from scipy.stats import skew\n",
        "\n",
        "np.random.seed(42)\n",
        "data = np.random.exponential(scale=2.0, size=1000)\n",
        "\n",
        "df = pd.DataFrame({'Value': data})\n",
        "\n",
        "skewness = skew(df['Value'])\n",
        "\n",
        "# Plot histogram\n",
        "plt.figure(figsize=(8, 5))\n",
        "sns.histplot(df['Value'], bins=30, kde=True, color='skyblue')\n",
        "plt.title(f'Histogram of Dataset (Skewness = {skewness:.2f})')\n",
        "plt.xlabel('Value')\n",
        "plt.ylabel('Frequency')\n",
        "plt.grid(True)\n",
        "plt.show()\n"
      ],
      "metadata": {
        "colab": {
          "base_uri": "https://localhost:8080/",
          "height": 487
        },
        "id": "KgauVxpLjcvq",
        "outputId": "33e4fa7a-e687-44e4-b954-b08c916e3898"
      },
      "execution_count": 3,
      "outputs": [
        {
          "output_type": "display_data",
          "data": {
            "text/plain": [
              "<Figure size 800x500 with 1 Axes>"
            ],
            "image/png": "[encoded data removed]"
          },
          "metadata": {}
        }
      ]
    },
    {
      "cell_type": "markdown",
      "source": [
        "###7. Calculate skewness and kurtosis of a dataset using Python libraries"
      ],
      "metadata": {
        "id": "CgJh0mnWjwmQ"
      }
    },
    {
      "cell_type": "code",
      "source": [
        "import numpy as np\n",
        "import pandas as pd\n",
        "from scipy.stats import skew, kurtosis\n",
        "\n",
        "np.random.seed(42)\n",
        "data = np.random.normal(loc=0, scale=1, size=1000)\n",
        "\n",
        "df = pd.DataFrame({'Value': data})\n",
        "\n",
        "skewness = skew(df['Value'])\n",
        "kurt = kurtosis(df['Value'])\n",
        "\n",
        "pandas_skewness = df['Value'].skew()\n",
        "pandas_kurtosis = df['Value'].kurt()\n",
        "\n",
        "print(\"📊 Skewness (scipy):\", skewness)\n",
        "print(\"📊 Kurtosis (scipy):\", kurt)\n",
        "print(\"📊 Skewness (pandas):\", pandas_skewness)\n",
        "print(\"📊 Kurtosis (pandas):\", pandas_kurtosis)\n"
      ],
      "metadata": {
        "colab": {
          "base_uri": "https://localhost:8080/"
        },
        "id": "iEfnhxqjj5Tb",
        "outputId": "83decf86-a7b2-44ac-e725-2d7584f8c38a"
      },
      "execution_count": 4,
      "outputs": [
        {
          "output_type": "stream",
          "name": "stdout",
          "text": [
            "📊 Skewness (scipy): 0.11680083110533511\n",
            "📊 Kurtosis (scipy): 0.06620589292148393\n",
            "📊 Skewness (pandas): 0.11697636882001397\n",
            "📊 Kurtosis (pandas): 0.07256220235414723\n"
          ]
        }
      ]
    },
    {
      "cell_type": "markdown",
      "source": [
        "###8.Generate a dataset and demonstrate positive and negative skewness"
      ],
      "metadata": {
        "id": "QzIMDdY7kLBK"
      }
    },
    {
      "cell_type": "code",
      "source": [
        "import numpy as np\n",
        "import pandas as pd\n",
        "import matplotlib.pyplot as plt\n",
        "import seaborn as sns\n",
        "from scipy.stats import skew\n",
        "\n",
        "np.random.seed(42)\n",
        "positive_skew_data = np.random.exponential(scale=2.0, size=1000)\n",
        "\n",
        "# 2. Left-skewed (Negative skew) - Reverse of exponential\n",
        "negative_skew_data = -np.random.exponential(scale=2.0, size=1000) + 10\n",
        "\n",
        "# Create a DataFrame\n",
        "df = pd.DataFrame({\n",
        "    'Positive_Skew': positive_skew_data,\n",
        "    'Negative_Skew': negative_skew_data\n",
        "})\n",
        "\n",
        "# Calculate skewness\n",
        "pos_skew_val = skew(df['Positive_Skew'])\n",
        "neg_skew_val = skew(df['Negative_Skew'])\n",
        "\n",
        "# Plot histograms\n",
        "plt.figure(figsize=(14, 5))\n",
        "\n",
        "# Plot positive skew\n",
        "plt.subplot(1, 2, 1)\n",
        "sns.histplot(df['Positive_Skew'], bins=30, kde=True, color='skyblue')\n",
        "plt.title(f'Positive Skew (Skewness = {pos_skew_val:.2f})')\n",
        "plt.xlabel('Value')\n",
        "\n",
        "# Plot negative skew\n",
        "plt.subplot(1, 2, 2)\n",
        "sns.histplot(df['Negative_Skew'], bins=30, kde=True, color='salmon')\n",
        "plt.title(f'Negative Skew (Skewness = {neg_skew_val:.2f})')\n",
        "plt.xlabel('Value')\n",
        "\n",
        "plt.tight_layout()\n",
        "plt.show()\n"
      ],
      "metadata": {
        "colab": {
          "base_uri": "https://localhost:8080/",
          "height": 507
        },
        "id": "n4aMCgTtkQH1",
        "outputId": "70339adf-4399-44ca-c154-92438ccfea19"
      },
      "execution_count": 5,
      "outputs": [
        {
          "output_type": "display_data",
          "data": {
            "text/plain": [
              "<Figure size 1400x500 with 2 Axes>"
            ],
            "image/png": "[encoded data removed]"
          },
          "metadata": {}
        }
      ]
    },
    {
      "cell_type": "markdown",
      "source": [
        "###9. Write a Python script to calculate covariance between two datasets"
      ],
      "metadata": {
        "id": "dZBB3xsIkT1B"
      }
    },
    {
      "cell_type": "code",
      "source": [
        "import numpy as np\n",
        "import pandas as pd\n",
        "\n",
        "# Sample datasets\n",
        "x = [2, 4, 6, 8, 10]\n",
        "y = [1, 3, 5, 7, 9]\n",
        "\n",
        "# Using NumPy\n",
        "cov_matrix_np = np.cov(x, y)  # Returns a 2x2 matrix\n",
        "covariance_np = cov_matrix_np[0][1]\n",
        "\n",
        "# Using Pandas\n",
        "df = pd.DataFrame({'X': x, 'Y': y})\n",
        "covariance_pd = df.cov().iloc[0, 1]\n",
        "\n",
        "# Output\n",
        "print(\"📊 Covariance using NumPy:\", covariance_np)\n",
        "print(\"📊 Covariance using Pandas:\", covariance_pd)\n"
      ],
      "metadata": {
        "colab": {
          "base_uri": "https://localhost:8080/"
        },
        "id": "-Vm0klCKkf9O",
        "outputId": "16d40934-61dd-4217-ef46-b7fc26de2704"
      },
      "execution_count": 6,
      "outputs": [
        {
          "output_type": "stream",
          "name": "stdout",
          "text": [
            "📊 Covariance using NumPy: 10.0\n",
            "📊 Covariance using Pandas: 10.0\n"
          ]
        }
      ]
    },
    {
      "cell_type": "markdown",
      "source": [
        "###10. Write a Python script to calculate the correlation coefficient between two datasets"
      ],
      "metadata": {
        "id": "cRYZ1CfLkmim"
      }
    },
    {
      "cell_type": "code",
      "source": [
        "import numpy as np\n",
        "import pandas as pd\n",
        "\n",
        "# Sample datasets\n",
        "x = [10, 20, 30, 40, 50]\n",
        "y = [15, 25, 35, 45, 55]\n",
        "\n",
        "# Using NumPy\n",
        "correlation_np = np.corrcoef(x, y)[0, 1]\n",
        "\n",
        "# Using Pandas\n",
        "df = pd.DataFrame({'X': x, 'Y': y})\n",
        "correlation_pd = df.corr().iloc[0, 1]\n",
        "\n",
        "# Output\n",
        "print(\"📈 Correlation coefficient using NumPy:\", correlation_np)\n",
        "print(\"📈 Correlation coefficient using Pandas:\", correlation_pd)\n"
      ],
      "metadata": {
        "colab": {
          "base_uri": "https://localhost:8080/"
        },
        "id": "M9kNDeJxkpWS",
        "outputId": "0a91bf93-7bf9-494e-e277-df60eae8bf99"
      },
      "execution_count": 7,
      "outputs": [
        {
          "output_type": "stream",
          "name": "stdout",
          "text": [
            "📈 Correlation coefficient using NumPy: 1.0\n",
            "📈 Correlation coefficient using Pandas: 1.0\n"
          ]
        }
      ]
    },
    {
      "cell_type": "markdown",
      "source": [
        "###11. Create a scatter plot to visualize the relationship between two variables"
      ],
      "metadata": {
        "id": "5ArFXfYEkv7g"
      }
    },
    {
      "cell_type": "code",
      "source": [
        "import matplotlib.pyplot as plt\n",
        "import seaborn as sns\n",
        "import pandas as pd\n",
        "\n",
        "# Sample data\n",
        "data = {\n",
        "    'Hours_Studied': [1, 2, 3, 4, 5, 6, 7, 8, 9, 10],\n",
        "    'Exam_Score':    [50, 55, 58, 62, 65, 70, 72, 78, 85, 90]\n",
        "}\n",
        "\n",
        "df = pd.DataFrame(data)\n",
        "\n",
        "# Plot using Seaborn\n",
        "plt.figure(figsize=(8, 5))\n",
        "sns.scatterplot(x='Hours_Studied', y='Exam_Score', data=df, color='teal', s=100)\n",
        "\n",
        "# Titles and labels\n",
        "plt.title('Scatter Plot: Hours Studied vs. Exam Score')\n",
        "plt.xlabel('Hours Studied')\n",
        "plt.ylabel('Exam Score')\n",
        "plt.grid(True)\n",
        "plt.show()\n"
      ],
      "metadata": {
        "colab": {
          "base_uri": "https://localhost:8080/",
          "height": 487
        },
        "id": "nYMtIPp0kysf",
        "outputId": "23276b5e-a3a3-4321-9e41-0d1ad4df8d69"
      },
      "execution_count": 8,
      "outputs": [
        {
          "output_type": "display_data",
          "data": {
            "text/plain": [
              "<Figure size 800x500 with 1 Axes>"
            ],
            "image/png": "[encoded data removed]"
          },
          "metadata": {}
        }
      ]
    },
    {
      "cell_type": "markdown",
      "source": [
        "###12.Implement and compare simple random sampling and systematic sampling"
      ],
      "metadata": {
        "id": "csq5TcIZlIeo"
      }
    },
    {
      "cell_type": "code",
      "source": [
        "import pandas as pd\n",
        "import numpy as np\n",
        "\n",
        "# Create a sample dataset\n",
        "data = {\n",
        "    'ID': np.arange(1, 101),\n",
        "    'Value': np.random.randint(50, 100, size=100)\n",
        "}\n",
        "df = pd.DataFrame(data)\n",
        "\n",
        "# 🔹 1. Simple Random Sampling\n",
        "random_sample = df.sample(n=10, random_state=42)\n",
        "\n",
        "# 🔹 2. Systematic Sampling\n",
        "def systematic_sampling(df, sample_size):\n",
        "    step = len(df) // sample_size\n",
        "    indices = np.arange(0, len(df), step)[:sample_size]\n",
        "    return df.iloc[indices]\n",
        "\n",
        "systematic_sample = systematic_sampling(df, 10)\n",
        "\n",
        "# 🔍 Display the samples\n",
        "print(\"📌 Simple Random Sample:\")\n",
        "print(random_sample.sort_values('ID'))\n",
        "\n",
        "print(\"\\n📌 Systematic Sample:\")\n",
        "print(systematic_sample.sort_values('ID'))\n"
      ],
      "metadata": {
        "colab": {
          "base_uri": "https://localhost:8080/"
        },
        "id": "LuJ34xRTlLd1",
        "outputId": "171c6997-d537-41e6-d377-aac79f6964bb"
      },
      "execution_count": 9,
      "outputs": [
        {
          "output_type": "stream",
          "name": "stdout",
          "text": [
            "📌 Simple Random Sample:\n",
            "    ID  Value\n",
            "0    1     77\n",
            "10  11     74\n",
            "22  23     53\n",
            "39  40     75\n",
            "44  45     67\n",
            "45  46     54\n",
            "53  54     74\n",
            "70  71     88\n",
            "80  81     59\n",
            "83  84     51\n",
            "\n",
            "📌 Systematic Sample:\n",
            "    ID  Value\n",
            "0    1     77\n",
            "10  11     74\n",
            "20  21     92\n",
            "30  31     81\n",
            "40  41     93\n",
            "50  51     73\n",
            "60  61     91\n",
            "70  71     88\n",
            "80  81     59\n",
            "90  91     97\n"
          ]
        }
      ]
    },
    {
      "cell_type": "markdown",
      "source": [
        "###13.Calculate the mean, median, and mode of grouped data"
      ],
      "metadata": {
        "id": "N0g3d6nXlYnd"
      }
    },
    {
      "cell_type": "code",
      "source": [
        "import pandas as pd\n",
        "\n",
        "# Sample grouped data: class intervals and frequencies\n",
        "data = {\n",
        "    'Class_Interval': ['10-20', '20-30', '30-40', '40-50', '50-60'],\n",
        "    'Frequency': [5, 8, 15, 12, 10]\n",
        "}\n",
        "\n",
        "df = pd.DataFrame(data)\n",
        "\n",
        "# 1. Calculate midpoints of class intervals\n",
        "def midpoint(interval):\n",
        "    low, high = map(int, interval.split('-'))\n",
        "    return (low + high) / 2\n",
        "\n",
        "df['Midpoint'] = df['Class_Interval'].apply(midpoint)\n",
        "\n",
        "# Total frequency\n",
        "N = df['Frequency'].sum()\n",
        "\n",
        "# ----- Mean -----\n",
        "mean = (df['Frequency'] * df['Midpoint']).sum() / N\n",
        "\n",
        "# ----- Median -----\n",
        "df['Cumulative_Freq'] = df['Frequency'].cumsum()\n",
        "median_class_index = df[df['Cumulative_Freq'] >= N/2].index[0]\n",
        "\n",
        "median_class = df.loc[median_class_index, 'Class_Interval']\n",
        "median_freq = df.loc[median_class_index, 'Frequency']\n",
        "cf_before = df.loc[median_class_index-1, 'Cumulative_Freq'] if median_class_index > 0 else 0\n",
        "\n",
        "low_limit = int(median_class.split('-')[0])\n",
        "class_width = int(median_class.split('-')[1]) - low_limit\n",
        "\n",
        "median = low_limit + ((N/2 - cf_before) / median_freq) * class_width\n",
        "\n",
        "# ----- Mode -----\n",
        "modal_class_index = df['Frequency'].idxmax()\n",
        "modal_class = df.loc[modal_class_index, 'Class_Interval']\n",
        "f_modal = df.loc[modal_class_index, 'Frequency']\n",
        "f_before = df.loc[modal_class_index-1, 'Frequency'] if modal_class_index > 0 else 0\n",
        "f_after = df.loc[modal_class_index+1, 'Frequency'] if modal_class_index < len(df)-1 else 0\n",
        "\n",
        "low_limit_mode = int(modal_class.split('-')[0])\n",
        "\n",
        "mode = low_limit_mode + ((f_modal - f_before) / ((f_modal - f_before) + (f_modal - f_after))) * class_width\n",
        "\n",
        "# Print results\n",
        "print(f\"Mean: {mean:.2f}\")\n",
        "print(f\"Median: {median:.2f}\")\n",
        "print(f\"Mode: {mode:.2f}\")\n"
      ],
      "metadata": {
        "colab": {
          "base_uri": "https://localhost:8080/"
        },
        "id": "fKkiXDVWlbgj",
        "outputId": "7cd699d9-cc9a-452c-cfb8-d32db331b024"
      },
      "execution_count": 10,
      "outputs": [
        {
          "output_type": "stream",
          "name": "stdout",
          "text": [
            "Mean: 37.80\n",
            "Median: 38.00\n",
            "Mode: 37.00\n"
          ]
        }
      ]
    },
    {
      "cell_type": "markdown",
      "source": [
        "###14. Simulate data using Python and calculate its central tendency and dispersion"
      ],
      "metadata": {
        "id": "18libQ_ml9QD"
      }
    },
    {
      "cell_type": "code",
      "source": [
        "import numpy as np\n",
        "import pandas as pd\n",
        "from scipy.stats import mode\n",
        "\n",
        "# Simulate data: normal distribution with mean=100, std=15, size=500\n",
        "np.random.seed(0)\n",
        "data = np.random.normal(loc=100, scale=15, size=500)\n",
        "data_series = pd.Series(data)\n",
        "\n",
        "# Central tendency\n",
        "mean_val = data_series.mean()\n",
        "median_val = data_series.median()\n",
        "mode_val = data_series.mode(0)\n",
        "\n",
        "# Dispersion\n",
        "variance_val = data_series.var()\n",
        "std_dev_val = data_series.std()\n",
        "range_val = data_series.max() - data_series.min()\n",
        "\n",
        "print(f\"Mean: {mean_val:.2f}\")\n",
        "print(f\"Median: {median_val:.2f}\")\n",
        "print(f\"Mode: {mode_val:.2f}\")\n",
        "print(f\"Variance: {variance_val:.2f}\")\n",
        "print(f\"Standard Deviation: {std_dev_val:.2f}\")\n",
        "print(f\"Range: {range_val:.2f}\")\n",
        "\n"
      ],
      "metadata": {
        "id": "34fbPEDamAOf"
      },
      "execution_count": null,
      "outputs": []
    },
    {
      "cell_type": "markdown",
      "source": [
        "###15.Use NumPy or pandas to summarize a dataset’s descriptive statistics"
      ],
      "metadata": {
        "id": "Pjcb-53fnleA"
      }
    },
    {
      "cell_type": "code",
      "source": [
        "import numpy as np\n",
        "import pandas as pd\n",
        "\n",
        "# Simulate dataset\n",
        "data = np.random.normal(loc=50, scale=10, size=1000)\n",
        "df = pd.DataFrame({'Values': data})\n",
        "\n",
        "# Pandas descriptive summary\n",
        "pandas_summary = df['Values'].describe()\n",
        "\n",
        "# NumPy descriptive stats\n",
        "numpy_summary = {\n",
        "    'count': data.size,\n",
        "    'mean': np.mean(data),\n",
        "    'median': np.median(data),\n",
        "    'std_dev': np.std(data, ddof=1),\n",
        "    'variance': np.var(data, ddof=1),\n",
        "    'min': np.min(data),\n",
        "    '25%': np.percentile(data, 25),\n",
        "    '50%': np.percentile(data, 50),\n",
        "    '75%': np.percentile(data, 75),\n",
        "    'max': np.max(data)\n",
        "}\n",
        "\n",
        "print(\"=== Pandas Summary ===\")\n",
        "print(pandas_summary)\n",
        "print(\"\\n=== NumPy Summary ===\")\n",
        "for key, val in numpy_summary.items():\n",
        "    print(f\"{key}: {val:.2f}\")\n"
      ],
      "metadata": {
        "colab": {
          "base_uri": "https://localhost:8080/"
        },
        "id": "tsGARLZ_nzIE",
        "outputId": "83788ac5-4622-4bbe-9d1e-1e3ef25aa2c7"
      },
      "execution_count": 17,
      "outputs": [
        {
          "output_type": "stream",
          "name": "stdout",
          "text": [
            "=== Pandas Summary ===\n",
            "count    1000.000000\n",
            "mean       49.820190\n",
            "std         9.719188\n",
            "min        19.538569\n",
            "25%        43.322854\n",
            "50%        49.851825\n",
            "75%        55.974397\n",
            "max        81.709748\n",
            "Name: Values, dtype: float64\n",
            "\n",
            "=== NumPy Summary ===\n",
            "count: 1000.00\n",
            "mean: 49.82\n",
            "median: 49.85\n",
            "std_dev: 9.72\n",
            "variance: 94.46\n",
            "min: 19.54\n",
            "25%: 43.32\n",
            "50%: 49.85\n",
            "75%: 55.97\n",
            "max: 81.71\n"
          ]
        }
      ]
    },
    {
      "cell_type": "markdown",
      "source": [
        "###16.Plot a boxplot to understand the spread and identify outliers"
      ],
      "metadata": {
        "id": "hjDgBRFon2oP"
      }
    },
    {
      "cell_type": "code",
      "source": [
        "import numpy as np\n",
        "import pandas as pd\n",
        "import matplotlib.pyplot as plt\n",
        "import seaborn as sns\n",
        "\n",
        "# Simulate data\n",
        "np.random.seed(42)\n",
        "data = np.random.normal(loc=50, scale=10, size=1000)\n",
        "df = pd.DataFrame({'Values': data})\n",
        "\n",
        "# Plot boxplot\n",
        "plt.figure(figsize=(8, 6))\n",
        "sns.boxplot(x=df['Values'], color='skyblue')\n",
        "plt.title('Boxplot of Values')\n",
        "plt.xlabel('Value')\n",
        "plt.show()\n"
      ],
      "metadata": {
        "colab": {
          "base_uri": "https://localhost:8080/",
          "height": 564
        },
        "id": "Th1fHmcwn59b",
        "outputId": "23e5ac97-78fd-4291-889e-d3030e98d505"
      },
      "execution_count": 18,
      "outputs": [
        {
          "output_type": "display_data",
          "data": {
            "text/plain": [
              "<Figure size 800x600 with 1 Axes>"
            ],
            "image/png": "[encoded data removed]"
          },
          "metadata": {}
        }
      ]
    },
    {
      "cell_type": "markdown",
      "source": [
        "###17.Calculate the interquartile range (IQR) of a dataset"
      ],
      "metadata": {
        "id": "sbsXRRb9oTF7"
      }
    },
    {
      "cell_type": "code",
      "source": [
        "import numpy as np\n",
        "import pandas as pd\n",
        "\n",
        "# Sample dataset\n",
        "data = [12, 7, 3, 15, 20, 9, 10, 5, 8, 14]\n",
        "\n",
        "# Using NumPy\n",
        "q1 = np.percentile(data, 25)\n",
        "q3 = np.percentile(data, 75)\n",
        "iqr = q3 - q1\n",
        "\n",
        "print(f\"Q1 (25th percentile): {q1}\")\n",
        "print(f\"Q3 (75th percentile): {q3}\")\n",
        "print(f\"IQR (Interquartile Range): {iqr}\")\n",
        "\n",
        "# Using Pandas\n",
        "series = pd.Series(data)\n",
        "iqr_pd = series.quantile(0.75) - series.quantile(0.25)\n",
        "print(f\"IQR using Pandas: {iqr_pd}\")\n"
      ],
      "metadata": {
        "colab": {
          "base_uri": "https://localhost:8080/"
        },
        "id": "v3x1KsjSoXdu",
        "outputId": "c5f06048-526a-49d9-8065-82e9d3a55ef6"
      },
      "execution_count": 19,
      "outputs": [
        {
          "output_type": "stream",
          "name": "stdout",
          "text": [
            "Q1 (25th percentile): 7.25\n",
            "Q3 (75th percentile): 13.5\n",
            "IQR (Interquartile Range): 6.25\n",
            "IQR using Pandas: 6.25\n"
          ]
        }
      ]
    },
    {
      "cell_type": "markdown",
      "source": [
        "###18.Implement Z-score normalization and explain its significance"
      ],
      "metadata": {
        "id": "WIeneNFZokRK"
      }
    },
    {
      "cell_type": "code",
      "source": [
        "import numpy as np\n",
        "\n",
        "# Sample data\n",
        "data = np.array([10, 20, 30, 40, 50])\n",
        "\n",
        "# Calculate mean and std deviation\n",
        "mean = np.mean(data)\n",
        "std = np.std(data)\n",
        "\n",
        "# Apply Z-score normalization\n",
        "z_scores = (data - mean) / std\n",
        "\n",
        "print(\"Original Data:\", data)\n",
        "print(\"Z-score Normalized Data:\", z_scores)\n"
      ],
      "metadata": {
        "colab": {
          "base_uri": "https://localhost:8080/"
        },
        "id": "_SFKnWQoooVG",
        "outputId": "9158deed-05d9-43a1-f48a-797cf6145cde"
      },
      "execution_count": 20,
      "outputs": [
        {
          "output_type": "stream",
          "name": "stdout",
          "text": [
            "Original Data: [10 20 30 40 50]\n",
            "Z-score Normalized Data: [-1.41421356 -0.70710678  0.          0.70710678  1.41421356]\n"
          ]
        }
      ]
    },
    {
      "cell_type": "markdown",
      "source": [
        "###19.Compare two datasets using their standard deviations"
      ],
      "metadata": {
        "id": "RmhOeGU8o21v"
      }
    },
    {
      "cell_type": "code",
      "source": [
        "import numpy as np\n",
        "\n",
        "# Sample datasets\n",
        "data1 = [10, 12, 14, 16, 18, 20]\n",
        "data2 = [8, 15, 22, 29, 36, 43]\n",
        "\n",
        "# Calculate standard deviations (sample std dev: ddof=1)\n",
        "std1 = np.std(data1, ddof=1)\n",
        "std2 = np.std(data2, ddof=1)\n",
        "\n",
        "print(f\"Standard Deviation of Dataset 1: {std1:.2f}\")\n",
        "print(f\"Standard Deviation of Dataset 2: {std2:.2f}\")\n",
        "\n",
        "if std1 > std2:\n",
        "    print(\"Dataset 1 has greater variability.\")\n",
        "elif std1 < std2:\n",
        "    print(\"Dataset 2 has greater variability.\")\n",
        "else:\n",
        "    print(\"Both datasets have the same variability.\")\n"
      ],
      "metadata": {
        "colab": {
          "base_uri": "https://localhost:8080/"
        },
        "id": "9qc7TjIco8hs",
        "outputId": "0fe59d74-bf52-4bb4-a060-588c375b5452"
      },
      "execution_count": 21,
      "outputs": [
        {
          "output_type": "stream",
          "name": "stdout",
          "text": [
            "Standard Deviation of Dataset 1: 3.74\n",
            "Standard Deviation of Dataset 2: 13.10\n",
            "Dataset 2 has greater variability.\n"
          ]
        }
      ]
    },
    {
      "cell_type": "markdown",
      "source": [
        "###20.Write a Python program to visualize covariance using a heatmap"
      ],
      "metadata": {
        "id": "Pqu9P3q-pGo-"
      }
    },
    {
      "cell_type": "code",
      "source": [
        "import numpy as np\n",
        "import pandas as pd\n",
        "import seaborn as sns\n",
        "import matplotlib.pyplot as plt\n",
        "\n",
        "# Sample data: 3 variables with 100 samples\n",
        "np.random.seed(0)\n",
        "data = {\n",
        "    'X': np.random.normal(0, 1, 100),\n",
        "    'Y': np.random.normal(5, 2, 100),\n",
        "    'Z': np.random.normal(-3, 5, 100)\n",
        "}\n",
        "\n",
        "df = pd.DataFrame(data)\n",
        "\n",
        "# Calculate covariance matrix\n",
        "cov_matrix = df.cov()\n",
        "\n",
        "# Plot heatmap\n",
        "plt.figure(figsize=(6, 5))\n",
        "sns.heatmap(cov_matrix, annot=True, cmap='coolwarm', fmt=\".2f\")\n",
        "plt.title('Covariance Matrix Heatmap')\n",
        "plt.show()\n"
      ],
      "metadata": {
        "colab": {
          "base_uri": "https://localhost:8080/",
          "height": 468
        },
        "id": "ekOD9Wd9pLU5",
        "outputId": "9252d5fc-0346-4d74-9737-64e4fae21249"
      },
      "execution_count": 22,
      "outputs": [
        {
          "output_type": "display_data",
          "data": {
            "text/plain": [
              "<Figure size 600x500 with 2 Axes>"
            ],
            "image/png": "[encoded data removed]"
          },
          "metadata": {}
        }
      ]
    },
    {
      "cell_type": "markdown",
      "source": [
        "###21. Use seaborn to create a correlation matrix for a dataset"
      ],
      "metadata": {
        "id": "QLho9UXlpPFW"
      }
    },
    {
      "cell_type": "code",
      "source": [
        "import numpy as np\n",
        "import pandas as pd\n",
        "import seaborn as sns\n",
        "import matplotlib.pyplot as plt\n",
        "\n",
        "# Simulate dataset with 4 variables\n",
        "np.random.seed(42)\n",
        "data = {\n",
        "    'A': np.random.normal(0, 1, 100),\n",
        "    'B': np.random.normal(5, 2, 100),\n",
        "    'C': np.random.normal(-3, 5, 100),\n",
        "    'D': np.random.normal(10, 3, 100)\n",
        "}\n",
        "\n",
        "df = pd.DataFrame(data)\n",
        "\n",
        "# Calculate correlation matrix\n",
        "corr_matrix = df.corr()\n",
        "\n",
        "# Plot correlation heatmap\n",
        "plt.figure(figsize=(8, 6))\n",
        "sns.heatmap(corr_matrix, annot=True, cmap='coolwarm', fmt=\".2f\")\n",
        "plt.title('Correlation Matrix Heatmap')\n",
        "plt.show()\n"
      ],
      "metadata": {
        "colab": {
          "base_uri": "https://localhost:8080/",
          "height": 545
        },
        "id": "qFWnl5RcpYee",
        "outputId": "10bbc3bf-a397-4884-ced1-d771376ef3a2"
      },
      "execution_count": 23,
      "outputs": [
        {
          "output_type": "display_data",
          "data": {
            "text/plain": [
              "<Figure size 800x600 with 2 Axes>"
            ],
            "image/png": "[encoded data removed]"
          },
          "metadata": {}
        }
      ]
    },
    {
      "cell_type": "markdown",
      "source": [
        "###22.Generate a dataset and implement both variance and standard deviation computations"
      ],
      "metadata": {
        "id": "kuQPmuRXpeOl"
      }
    },
    {
      "cell_type": "code",
      "source": [
        "import numpy as np\n",
        "\n",
        "# Generate a dataset of 100 random numbers (normal distribution)\n",
        "np.random.seed(1)\n",
        "data = np.random.normal(loc=50, scale=5, size=100)\n",
        "\n",
        "# Calculate variance and standard deviation\n",
        "variance = np.var(data, ddof=1)  # sample variance\n",
        "std_dev = np.std(data, ddof=1)   # sample standard deviation\n",
        "\n",
        "print(f\"Variance: {variance:.2f}\")\n",
        "print(f\"Standard Deviation: {std_dev:.2f}\")\n"
      ],
      "metadata": {
        "colab": {
          "base_uri": "https://localhost:8080/"
        },
        "id": "kwaS3iWQpkOX",
        "outputId": "00679a2d-7dbe-4749-af1b-a39aa2a6610a"
      },
      "execution_count": 24,
      "outputs": [
        {
          "output_type": "stream",
          "name": "stdout",
          "text": [
            "Variance: 19.79\n",
            "Standard Deviation: 4.45\n"
          ]
        }
      ]
    },
    {
      "cell_type": "markdown",
      "source": [
        "###23. Visualize skewness and kurtosis using Python libraries like matplotlib or seaborn"
      ],
      "metadata": {
        "id": "cC2GghLCpwQ6"
      }
    },
    {
      "cell_type": "code",
      "source": [
        "import numpy as np\n",
        "import matplotlib.pyplot as plt\n",
        "import seaborn as sns\n",
        "from scipy.stats import skew, kurtosis\n",
        "\n",
        "# Generate skewed data (exponential distribution)\n",
        "np.random.seed(0)\n",
        "data = np.random.exponential(scale=2, size=1000)\n",
        "\n",
        "# Calculate skewness and kurtosis\n",
        "data_skewness = skew(data)\n",
        "data_kurtosis = kurtosis(data)  # excess kurtosis (normal = 0)\n",
        "\n",
        "print(f\"Skewness: {data_skewness:.2f}\")\n",
        "print(f\"Kurtosis: {data_kurtosis:.2f}\")\n",
        "\n",
        "# Plot histogram with KDE\n",
        "plt.figure(figsize=(8, 6))\n",
        "sns.histplot(data, kde=True, color='skyblue', bins=30)\n",
        "plt.title('Histogram and KDE of Skewed Data')\n",
        "plt.xlabel('Value')\n",
        "plt.ylabel('Frequency')\n",
        "plt.show()\n"
      ],
      "metadata": {
        "colab": {
          "base_uri": "https://localhost:8080/",
          "height": 599
        },
        "id": "J5VgoMvypyfX",
        "outputId": "63103784-b688-47d1-adac-0ed9b945c987"
      },
      "execution_count": 25,
      "outputs": [
        {
          "output_type": "stream",
          "name": "stdout",
          "text": [
            "Skewness: 2.05\n",
            "Kurtosis: 6.48\n"
          ]
        },
        {
          "output_type": "display_data",
          "data": {
            "text/plain": [
              "<Figure size 800x600 with 1 Axes>"
            ],
            "image/png": "[encoded data removed]"
          },
          "metadata": {}
        }
      ]
    },
    {
      "cell_type": "markdown",
      "source": [
        "###24. Implement the Pearson and Spearman correlation coefficients for a dataset."
      ],
      "metadata": {
        "id": "KlJvG74Wp4a9"
      }
    },
    {
      "cell_type": "code",
      "source": [
        "import numpy as np\n",
        "from scipy.stats import pearsonr, spearmanr\n",
        "\n",
        "# Sample data\n",
        "np.random.seed(42)\n",
        "x = np.random.normal(50, 10, 100)\n",
        "y = 0.5 * x + np.random.normal(0, 5, 100)  # y correlated with x\n",
        "\n",
        "# Calculate Pearson correlation coefficient\n",
        "pearson_corr, pearson_p = pearsonr(x, y)\n",
        "\n",
        "# Calculate Spearman correlation coefficient\n",
        "spearman_corr, spearman_p = spearmanr(x, y)\n",
        "\n",
        "print(f\"Pearson correlation: {pearson_corr:.3f}, p-value: {pearson_p:.3f}\")\n",
        "print(f\"Spearman correlation: {spearman_corr:.3f}, p-value: {spearman_p:.3f}\")\n"
      ],
      "metadata": {
        "colab": {
          "base_uri": "https://localhost:8080/"
        },
        "id": "tCZi8Ah3p8-0",
        "outputId": "871bff1e-bf1c-4edc-cd83-060929483703"
      },
      "execution_count": 26,
      "outputs": [
        {
          "output_type": "stream",
          "name": "stdout",
          "text": [
            "Pearson correlation: 0.636, p-value: 0.000\n",
            "Spearman correlation: 0.600, p-value: 0.000\n"
          ]
        }
      ]
    }
  ]
}